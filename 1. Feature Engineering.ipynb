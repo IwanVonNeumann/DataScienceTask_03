{
 "cells": [
  {
   "cell_type": "markdown",
   "metadata": {},
   "source": [
    "# Feature engineering"
   ]
  },
  {
   "cell_type": "markdown",
   "metadata": {},
   "source": [
    "## 1. First impression\n",
    "In normal conditions for exploring 2.5k / 3 ~ 0.8k lines long Credit Bureau report would take 1.5-2 days, having documentation in place. Writing code able to process this - a separate task, at least 1 day, depending on proposed feature complexity.\n",
    "\n",
    "My expectation for an 1h deadline: to explore the document structure from top to bottom to a certain point of nesting, writing down comments. Probably will have to stop this process at loans list or payments list level.\n",
    "\n",
    "By the way, my IDE counts 1001 typos in the document, which slows down reading: would be nice to use *snake_case* or *camelCase*. But this is provider-side issue, I guess.\n",
    "\n",
    "**Disclaimer**: without documentation and corresponding risk stats, the following thoughts are fully my expert assumptions."
   ]
  },
  {
   "cell_type": "markdown",
   "metadata": {},
   "source": [
    "## 2. Document structure insights\n",
    "3 application reports concatenated.\n",
    "\n",
    "Top-level structure (sections):  \n",
    "``1. subjectlist`` ~ technical section.  \n",
    "``2. accountrating`` ~ 0 to something points scale describing credit history by segments. Probably, some inner Bureau standard. Some points may be pretty strong risk predictors.  \n",
    "``3. enquirydetails`` ~ current Bureau request technical info. Just techical info, hardly contains risk predictors.  \n",
    "``4. guarantorcount`` ~ loan guarantors summary. Hardly contains risk predictors, may be useful in fraud detection or in collection.  \n",
    "``5. guarantordetails`` ~ loan guarantors details. Hardly contains risk predictors, may be useful in fraud detection or in collection.  \n",
    "``6. telephonehistory`` ~ client's phone numbers historical info. Hardly contains risk predictors, may be useful in fraud detection or in collection.  \n",
    "``7. employmenthistory`` ~ client's employment history, contains economics sectors, partially employer names, positions, dates. Probably is useful for risk prediction. Correlates with age, education and income.  \n",
    "``8. enquiryhistorytop`` ~ latest part of history of how the client was requesting loans in different credit institutions. Probably is useful for risk prediction, may be a strong predictor. Much more queries than loans in history may mean that the client mostly gets rejected by credit institution - high risk marker.  \n",
    "``9. creditaccountsummary`` ~ aggregated metrics of the client's credit history. The most of strongest risk predictors are here.  \n",
    "``10. deliquencyinformation`` ~ deliquent loans information. Strong risk predictors could be generated from here, especially taking into account whether there are deliquencies on historical or current loans. Too little fields, in my opinion. Would be nice to have dates, amounts etc.  \n",
    "``11. creditagreementsummary`` ~ top level info on the client's loans history. Strong aggregated features may be generated also from here, depending of how good are the ones from ``creditaccountsummary`` (did the Bureau already aggregate the strongest features?) and their mutual correlation.  \n",
    "``12. personaldetailssummary`` ~ personal info section. Medium strength risk predictors may be found here, like age, city etc.  \n",
    "``13. accountmonthlypaymenthistory`` ~ details of payment schedules of the client's loan history. Hard to propose something without docs here: looks like some encoding used for payments info.  \n",
    "``14. accountmonthlypaymenthistoryheader`` ~ some additional info to ``accountmonthlypaymenthistory``. Cannot quickly tell whether this is useful in terms of risk prediction.  "
   ]
  },
  {
   "cell_type": "markdown",
   "metadata": {},
   "source": [
    "## 3. Processing code draft\n",
    "In the time left will try to make a draft for the ``.json`` file processing.\n",
    "### 3.1. Document reading"
   ]
  },
  {
   "cell_type": "code",
   "execution_count": 1,
   "metadata": {},
   "outputs": [],
   "source": [
    "import os\n",
    "import pandas as pd"
   ]
  },
  {
   "cell_type": "code",
   "execution_count": 2,
   "metadata": {},
   "outputs": [],
   "source": [
    "DATA_DIR = 'data'\n",
    "DATA_FILE_NAME = 'credit_report_sample.json'"
   ]
  },
  {
   "cell_type": "code",
   "execution_count": 3,
   "metadata": {},
   "outputs": [],
   "source": [
    "data_file_path = os.path.join(DATA_DIR, DATA_FILE_NAME)"
   ]
  },
  {
   "cell_type": "code",
   "execution_count": 4,
   "metadata": {},
   "outputs": [],
   "source": [
    "df = pd.read_json(data_file_path).set_index('application_id')"
   ]
  },
  {
   "cell_type": "code",
   "execution_count": 5,
   "metadata": {},
   "outputs": [
    {
     "data": {
      "text/plain": [
       "(3, 1)"
      ]
     },
     "execution_count": 5,
     "metadata": {},
     "output_type": "execute_result"
    }
   ],
   "source": [
    "df.shape"
   ]
  },
  {
   "cell_type": "code",
   "execution_count": 6,
   "metadata": {},
   "outputs": [
    {
     "data": {
      "text/html": [
       "<div>\n",
       "<style scoped>\n",
       "    .dataframe tbody tr th:only-of-type {\n",
       "        vertical-align: middle;\n",
       "    }\n",
       "\n",
       "    .dataframe tbody tr th {\n",
       "        vertical-align: top;\n",
       "    }\n",
       "\n",
       "    .dataframe thead th {\n",
       "        text-align: right;\n",
       "    }\n",
       "</style>\n",
       "<table border=\"1\" class=\"dataframe\">\n",
       "  <thead>\n",
       "    <tr style=\"text-align: right;\">\n",
       "      <th></th>\n",
       "      <th>data</th>\n",
       "    </tr>\n",
       "    <tr>\n",
       "      <th>application_id</th>\n",
       "      <th></th>\n",
       "    </tr>\n",
       "  </thead>\n",
       "  <tbody>\n",
       "    <tr>\n",
       "      <th>9711360</th>\n",
       "      <td>{'consumerfullcredit': {'subjectlist': {'refer...</td>\n",
       "    </tr>\n",
       "    <tr>\n",
       "      <th>9714953</th>\n",
       "      <td>{'consumerfullcredit': {'subjectlist': {'refer...</td>\n",
       "    </tr>\n",
       "    <tr>\n",
       "      <th>9714978</th>\n",
       "      <td>{'consumerfullcredit': {'subjectlist': {'refer...</td>\n",
       "    </tr>\n",
       "  </tbody>\n",
       "</table>\n",
       "</div>"
      ],
      "text/plain": [
       "                                                             data\n",
       "application_id                                                   \n",
       "9711360         {'consumerfullcredit': {'subjectlist': {'refer...\n",
       "9714953         {'consumerfullcredit': {'subjectlist': {'refer...\n",
       "9714978         {'consumerfullcredit': {'subjectlist': {'refer..."
      ]
     },
     "execution_count": 6,
     "metadata": {},
     "output_type": "execute_result"
    }
   ],
   "source": [
    "df.head()"
   ]
  },
  {
   "cell_type": "markdown",
   "metadata": {},
   "source": [
    "### 3.2. Structure unpacking draft"
   ]
  },
  {
   "cell_type": "code",
   "execution_count": 7,
   "metadata": {},
   "outputs": [],
   "source": [
    "consumer_full_credit = df['data'].apply(lambda item: item['consumerfullcredit'])"
   ]
  },
  {
   "cell_type": "code",
   "execution_count": 8,
   "metadata": {},
   "outputs": [],
   "source": [
    "df.drop(labels=['data'], axis=1, inplace=True)"
   ]
  },
  {
   "cell_type": "code",
   "execution_count": 9,
   "metadata": {},
   "outputs": [],
   "source": [
    "df['subjectlist'] = consumer_full_credit.apply(lambda item: item['subjectlist'])"
   ]
  },
  {
   "cell_type": "code",
   "execution_count": 10,
   "metadata": {},
   "outputs": [],
   "source": [
    "df['accountrating'] = consumer_full_credit.apply(lambda item: item['accountrating'])"
   ]
  },
  {
   "cell_type": "code",
   "execution_count": 11,
   "metadata": {},
   "outputs": [],
   "source": [
    "df['guarantorcount'] = consumer_full_credit.apply(lambda item: item['guarantorcount'])"
   ]
  },
  {
   "cell_type": "code",
   "execution_count": 12,
   "metadata": {},
   "outputs": [],
   "source": [
    "df['guarantordetails'] = consumer_full_credit.apply(lambda item: item['guarantordetails'])"
   ]
  },
  {
   "cell_type": "code",
   "execution_count": 13,
   "metadata": {},
   "outputs": [
    {
     "data": {
      "text/html": [
       "<div>\n",
       "<style scoped>\n",
       "    .dataframe tbody tr th:only-of-type {\n",
       "        vertical-align: middle;\n",
       "    }\n",
       "\n",
       "    .dataframe tbody tr th {\n",
       "        vertical-align: top;\n",
       "    }\n",
       "\n",
       "    .dataframe thead th {\n",
       "        text-align: right;\n",
       "    }\n",
       "</style>\n",
       "<table border=\"1\" class=\"dataframe\">\n",
       "  <thead>\n",
       "    <tr style=\"text-align: right;\">\n",
       "      <th></th>\n",
       "      <th>subjectlist</th>\n",
       "      <th>accountrating</th>\n",
       "      <th>guarantorcount</th>\n",
       "      <th>guarantordetails</th>\n",
       "    </tr>\n",
       "    <tr>\n",
       "      <th>application_id</th>\n",
       "      <th></th>\n",
       "      <th></th>\n",
       "      <th></th>\n",
       "      <th></th>\n",
       "    </tr>\n",
       "  </thead>\n",
       "  <tbody>\n",
       "    <tr>\n",
       "      <th>9711360</th>\n",
       "      <td>{'reference': '128566', 'consumerid': '128566'...</td>\n",
       "      <td>{'noofotheraccountsbad': '0', 'noofotheraccoun...</td>\n",
       "      <td>{'accounts': '0', 'guarantorssecured': '0'}</td>\n",
       "      <td>{'guarantorgender': None, 'guarantorotherid': ...</td>\n",
       "    </tr>\n",
       "    <tr>\n",
       "      <th>9714953</th>\n",
       "      <td>{'reference': '58793', 'consumerid': '58793', ...</td>\n",
       "      <td>{'noofotheraccountsbad': '0', 'noofotheraccoun...</td>\n",
       "      <td>{'accounts': '0', 'guarantorssecured': '0'}</td>\n",
       "      <td>{'guarantorgender': None, 'guarantorotherid': ...</td>\n",
       "    </tr>\n",
       "    <tr>\n",
       "      <th>9714978</th>\n",
       "      <td>{'reference': '17688366', 'consumerid': '17688...</td>\n",
       "      <td>{'noofotheraccountsbad': '0', 'noofotheraccoun...</td>\n",
       "      <td>{'accounts': '0', 'guarantorssecured': '0'}</td>\n",
       "      <td>{'guarantorgender': None, 'guarantorotherid': ...</td>\n",
       "    </tr>\n",
       "  </tbody>\n",
       "</table>\n",
       "</div>"
      ],
      "text/plain": [
       "                                                      subjectlist  \\\n",
       "application_id                                                      \n",
       "9711360         {'reference': '128566', 'consumerid': '128566'...   \n",
       "9714953         {'reference': '58793', 'consumerid': '58793', ...   \n",
       "9714978         {'reference': '17688366', 'consumerid': '17688...   \n",
       "\n",
       "                                                    accountrating  \\\n",
       "application_id                                                      \n",
       "9711360         {'noofotheraccountsbad': '0', 'noofotheraccoun...   \n",
       "9714953         {'noofotheraccountsbad': '0', 'noofotheraccoun...   \n",
       "9714978         {'noofotheraccountsbad': '0', 'noofotheraccoun...   \n",
       "\n",
       "                                             guarantorcount  \\\n",
       "application_id                                                \n",
       "9711360         {'accounts': '0', 'guarantorssecured': '0'}   \n",
       "9714953         {'accounts': '0', 'guarantorssecured': '0'}   \n",
       "9714978         {'accounts': '0', 'guarantorssecured': '0'}   \n",
       "\n",
       "                                                 guarantordetails  \n",
       "application_id                                                     \n",
       "9711360         {'guarantorgender': None, 'guarantorotherid': ...  \n",
       "9714953         {'guarantorgender': None, 'guarantorotherid': ...  \n",
       "9714978         {'guarantorgender': None, 'guarantorotherid': ...  "
      ]
     },
     "execution_count": 13,
     "metadata": {},
     "output_type": "execute_result"
    }
   ],
   "source": [
    "df.head()"
   ]
  },
  {
   "cell_type": "markdown",
   "metadata": {},
   "source": [
    "## 4. Conclusion\n",
    "Okay, here the chronometer shows 1h spent as defined for the task. Further unpacking of 1:1 features is pretty much obvious, however dealing with all the 1:M relationships and possible feature engineering is a separate problem out of the deadline."
   ]
  }
 ],
 "metadata": {
  "kernelspec": {
   "display_name": "Python 3",
   "language": "python",
   "name": "python3"
  },
  "language_info": {
   "codemirror_mode": {
    "name": "ipython",
    "version": 3
   },
   "file_extension": ".py",
   "mimetype": "text/x-python",
   "name": "python",
   "nbconvert_exporter": "python",
   "pygments_lexer": "ipython3",
   "version": "3.6.0"
  }
 },
 "nbformat": 4,
 "nbformat_minor": 2
}
